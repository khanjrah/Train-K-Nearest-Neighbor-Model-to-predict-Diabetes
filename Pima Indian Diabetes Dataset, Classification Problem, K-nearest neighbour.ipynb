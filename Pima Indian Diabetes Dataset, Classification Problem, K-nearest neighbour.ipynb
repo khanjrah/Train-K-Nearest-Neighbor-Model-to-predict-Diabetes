{
  "cells": [
    {
      "metadata": {
        "trusted": true
      },
      "cell_type": "code",
      "source": "import numpy as np\nimport pandas as pd\nimport matplotlib.pyplot as plt",
      "execution_count": 1,
      "outputs": []
    },
    {
      "metadata": {
        "trusted": true
      },
      "cell_type": "code",
      "source": "df = pd.read_csv('diabetes.csv')",
      "execution_count": 2,
      "outputs": []
    },
    {
      "metadata": {
        "trusted": true
      },
      "cell_type": "code",
      "source": "df.head()",
      "execution_count": 3,
      "outputs": [
        {
          "output_type": "execute_result",
          "execution_count": 3,
          "data": {
            "text/html": "<div>\n<style scoped>\n    .dataframe tbody tr th:only-of-type {\n        vertical-align: middle;\n    }\n\n    .dataframe tbody tr th {\n        vertical-align: top;\n    }\n\n    .dataframe thead th {\n        text-align: right;\n    }\n</style>\n<table border=\"1\" class=\"dataframe\">\n  <thead>\n    <tr style=\"text-align: right;\">\n      <th></th>\n      <th>Pregnancies</th>\n      <th>Glucose</th>\n      <th>BloodPressure</th>\n      <th>SkinThickness</th>\n      <th>Insulin</th>\n      <th>BMI</th>\n      <th>DiabetesPedigreeFunction</th>\n      <th>Age</th>\n      <th>Outcome</th>\n    </tr>\n  </thead>\n  <tbody>\n    <tr>\n      <th>0</th>\n      <td>6</td>\n      <td>148</td>\n      <td>72</td>\n      <td>35</td>\n      <td>0</td>\n      <td>33.6</td>\n      <td>0.627</td>\n      <td>50</td>\n      <td>1</td>\n    </tr>\n    <tr>\n      <th>1</th>\n      <td>1</td>\n      <td>85</td>\n      <td>66</td>\n      <td>29</td>\n      <td>0</td>\n      <td>26.6</td>\n      <td>0.351</td>\n      <td>31</td>\n      <td>0</td>\n    </tr>\n    <tr>\n      <th>2</th>\n      <td>8</td>\n      <td>183</td>\n      <td>64</td>\n      <td>0</td>\n      <td>0</td>\n      <td>23.3</td>\n      <td>0.672</td>\n      <td>32</td>\n      <td>1</td>\n    </tr>\n    <tr>\n      <th>3</th>\n      <td>1</td>\n      <td>89</td>\n      <td>66</td>\n      <td>23</td>\n      <td>94</td>\n      <td>28.1</td>\n      <td>0.167</td>\n      <td>21</td>\n      <td>0</td>\n    </tr>\n    <tr>\n      <th>4</th>\n      <td>0</td>\n      <td>137</td>\n      <td>40</td>\n      <td>35</td>\n      <td>168</td>\n      <td>43.1</td>\n      <td>2.288</td>\n      <td>33</td>\n      <td>1</td>\n    </tr>\n  </tbody>\n</table>\n</div>",
            "text/plain": "   Pregnancies  Glucose  BloodPressure  SkinThickness  Insulin   BMI  \\\n0            6      148             72             35        0  33.6   \n1            1       85             66             29        0  26.6   \n2            8      183             64              0        0  23.3   \n3            1       89             66             23       94  28.1   \n4            0      137             40             35      168  43.1   \n\n   DiabetesPedigreeFunction  Age  Outcome  \n0                     0.627   50        1  \n1                     0.351   31        0  \n2                     0.672   32        1  \n3                     0.167   21        0  \n4                     2.288   33        1  "
          },
          "metadata": {}
        }
      ]
    },
    {
      "metadata": {
        "trusted": true
      },
      "cell_type": "code",
      "source": "df.shape",
      "execution_count": 4,
      "outputs": [
        {
          "output_type": "execute_result",
          "execution_count": 4,
          "data": {
            "text/plain": "(768, 9)"
          },
          "metadata": {}
        }
      ]
    },
    {
      "metadata": {
        "trusted": true
      },
      "cell_type": "code",
      "source": "df.describe()",
      "execution_count": 5,
      "outputs": [
        {
          "output_type": "execute_result",
          "execution_count": 5,
          "data": {
            "text/html": "<div>\n<style scoped>\n    .dataframe tbody tr th:only-of-type {\n        vertical-align: middle;\n    }\n\n    .dataframe tbody tr th {\n        vertical-align: top;\n    }\n\n    .dataframe thead th {\n        text-align: right;\n    }\n</style>\n<table border=\"1\" class=\"dataframe\">\n  <thead>\n    <tr style=\"text-align: right;\">\n      <th></th>\n      <th>Pregnancies</th>\n      <th>Glucose</th>\n      <th>BloodPressure</th>\n      <th>SkinThickness</th>\n      <th>Insulin</th>\n      <th>BMI</th>\n      <th>DiabetesPedigreeFunction</th>\n      <th>Age</th>\n      <th>Outcome</th>\n    </tr>\n  </thead>\n  <tbody>\n    <tr>\n      <th>count</th>\n      <td>768.000000</td>\n      <td>768.000000</td>\n      <td>768.000000</td>\n      <td>768.000000</td>\n      <td>768.000000</td>\n      <td>768.000000</td>\n      <td>768.000000</td>\n      <td>768.000000</td>\n      <td>768.000000</td>\n    </tr>\n    <tr>\n      <th>mean</th>\n      <td>3.845052</td>\n      <td>120.894531</td>\n      <td>69.105469</td>\n      <td>20.536458</td>\n      <td>79.799479</td>\n      <td>31.992578</td>\n      <td>0.471876</td>\n      <td>33.240885</td>\n      <td>0.348958</td>\n    </tr>\n    <tr>\n      <th>std</th>\n      <td>3.369578</td>\n      <td>31.972618</td>\n      <td>19.355807</td>\n      <td>15.952218</td>\n      <td>115.244002</td>\n      <td>7.884160</td>\n      <td>0.331329</td>\n      <td>11.760232</td>\n      <td>0.476951</td>\n    </tr>\n    <tr>\n      <th>min</th>\n      <td>0.000000</td>\n      <td>0.000000</td>\n      <td>0.000000</td>\n      <td>0.000000</td>\n      <td>0.000000</td>\n      <td>0.000000</td>\n      <td>0.078000</td>\n      <td>21.000000</td>\n      <td>0.000000</td>\n    </tr>\n    <tr>\n      <th>25%</th>\n      <td>1.000000</td>\n      <td>99.000000</td>\n      <td>62.000000</td>\n      <td>0.000000</td>\n      <td>0.000000</td>\n      <td>27.300000</td>\n      <td>0.243750</td>\n      <td>24.000000</td>\n      <td>0.000000</td>\n    </tr>\n    <tr>\n      <th>50%</th>\n      <td>3.000000</td>\n      <td>117.000000</td>\n      <td>72.000000</td>\n      <td>23.000000</td>\n      <td>30.500000</td>\n      <td>32.000000</td>\n      <td>0.372500</td>\n      <td>29.000000</td>\n      <td>0.000000</td>\n    </tr>\n    <tr>\n      <th>75%</th>\n      <td>6.000000</td>\n      <td>140.250000</td>\n      <td>80.000000</td>\n      <td>32.000000</td>\n      <td>127.250000</td>\n      <td>36.600000</td>\n      <td>0.626250</td>\n      <td>41.000000</td>\n      <td>1.000000</td>\n    </tr>\n    <tr>\n      <th>max</th>\n      <td>17.000000</td>\n      <td>199.000000</td>\n      <td>122.000000</td>\n      <td>99.000000</td>\n      <td>846.000000</td>\n      <td>67.100000</td>\n      <td>2.420000</td>\n      <td>81.000000</td>\n      <td>1.000000</td>\n    </tr>\n  </tbody>\n</table>\n</div>",
            "text/plain": "       Pregnancies     Glucose  BloodPressure  SkinThickness     Insulin  \\\ncount   768.000000  768.000000     768.000000     768.000000  768.000000   \nmean      3.845052  120.894531      69.105469      20.536458   79.799479   \nstd       3.369578   31.972618      19.355807      15.952218  115.244002   \nmin       0.000000    0.000000       0.000000       0.000000    0.000000   \n25%       1.000000   99.000000      62.000000       0.000000    0.000000   \n50%       3.000000  117.000000      72.000000      23.000000   30.500000   \n75%       6.000000  140.250000      80.000000      32.000000  127.250000   \nmax      17.000000  199.000000     122.000000      99.000000  846.000000   \n\n              BMI  DiabetesPedigreeFunction         Age     Outcome  \ncount  768.000000                768.000000  768.000000  768.000000  \nmean    31.992578                  0.471876   33.240885    0.348958  \nstd      7.884160                  0.331329   11.760232    0.476951  \nmin      0.000000                  0.078000   21.000000    0.000000  \n25%     27.300000                  0.243750   24.000000    0.000000  \n50%     32.000000                  0.372500   29.000000    0.000000  \n75%     36.600000                  0.626250   41.000000    1.000000  \nmax     67.100000                  2.420000   81.000000    1.000000  "
          },
          "metadata": {}
        }
      ]
    },
    {
      "metadata": {
        "trusted": true
      },
      "cell_type": "code",
      "source": "cor =df.corr()",
      "execution_count": 6,
      "outputs": []
    },
    {
      "metadata": {
        "trusted": true
      },
      "cell_type": "code",
      "source": "features = df.drop(['Outcome'],axis = 1)",
      "execution_count": 7,
      "outputs": []
    },
    {
      "metadata": {
        "trusted": true
      },
      "cell_type": "code",
      "source": "import pandas as pd\nimport numpy as np\n\n\ncorr = features.corr()\ncorr.style.background_gradient(cmap='coolwarm')\n# 'RdBu_r' & 'BrBG' are other good diverging colormaps",
      "execution_count": 8,
      "outputs": [
        {
          "output_type": "execute_result",
          "execution_count": 8,
          "data": {
            "text/html": "<style  type=\"text/css\" >\n    #T_bafcc62c_40ed_11e9_b312_00155d021003row0_col0 {\n            background-color:  #b40426;\n        }    #T_bafcc62c_40ed_11e9_b312_00155d021003row0_col1 {\n            background-color:  #516ddb;\n        }    #T_bafcc62c_40ed_11e9_b312_00155d021003row0_col2 {\n            background-color:  #5a78e4;\n        }    #T_bafcc62c_40ed_11e9_b312_00155d021003row0_col3 {\n            background-color:  #4358cb;\n        }    #T_bafcc62c_40ed_11e9_b312_00155d021003row0_col4 {\n            background-color:  #3b4cc0;\n        }    #T_bafcc62c_40ed_11e9_b312_00155d021003row0_col5 {\n            background-color:  #3b4cc0;\n        }    #T_bafcc62c_40ed_11e9_b312_00155d021003row0_col6 {\n            background-color:  #3b4cc0;\n        }    #T_bafcc62c_40ed_11e9_b312_00155d021003row0_col7 {\n            background-color:  #f1cdba;\n        }    #T_bafcc62c_40ed_11e9_b312_00155d021003row1_col0 {\n            background-color:  #799cf8;\n        }    #T_bafcc62c_40ed_11e9_b312_00155d021003row1_col1 {\n            background-color:  #b40426;\n        }    #T_bafcc62c_40ed_11e9_b312_00155d021003row1_col2 {\n            background-color:  #5e7de7;\n        }    #T_bafcc62c_40ed_11e9_b312_00155d021003row1_col3 {\n            background-color:  #6b8df0;\n        }    #T_bafcc62c_40ed_11e9_b312_00155d021003row1_col4 {\n            background-color:  #b9d0f9;\n        }    #T_bafcc62c_40ed_11e9_b312_00155d021003row1_col5 {\n            background-color:  #7ea1fa;\n        }    #T_bafcc62c_40ed_11e9_b312_00155d021003row1_col6 {\n            background-color:  #6f92f3;\n        }    #T_bafcc62c_40ed_11e9_b312_00155d021003row1_col7 {\n            background-color:  #abc8fd;\n        }    #T_bafcc62c_40ed_11e9_b312_00155d021003row2_col0 {\n            background-color:  #7da0f9;\n        }    #T_bafcc62c_40ed_11e9_b312_00155d021003row2_col1 {\n            background-color:  #5977e3;\n        }    #T_bafcc62c_40ed_11e9_b312_00155d021003row2_col2 {\n            background-color:  #b40426;\n        }    #T_bafcc62c_40ed_11e9_b312_00155d021003row2_col3 {\n            background-color:  #9abbff;\n        }    #T_bafcc62c_40ed_11e9_b312_00155d021003row2_col4 {\n            background-color:  #6a8bef;\n        }    #T_bafcc62c_40ed_11e9_b312_00155d021003row2_col5 {\n            background-color:  #93b5fe;\n        }    #T_bafcc62c_40ed_11e9_b312_00155d021003row2_col6 {\n            background-color:  #506bda;\n        }    #T_bafcc62c_40ed_11e9_b312_00155d021003row2_col7 {\n            background-color:  #a5c3fe;\n        }    #T_bafcc62c_40ed_11e9_b312_00155d021003row3_col0 {\n            background-color:  #3b4cc0;\n        }    #T_bafcc62c_40ed_11e9_b312_00155d021003row3_col1 {\n            background-color:  #3b4cc0;\n        }    #T_bafcc62c_40ed_11e9_b312_00155d021003row3_col2 {\n            background-color:  #7295f4;\n        }    #T_bafcc62c_40ed_11e9_b312_00155d021003row3_col3 {\n            background-color:  #b40426;\n        }    #T_bafcc62c_40ed_11e9_b312_00155d021003row3_col4 {\n            background-color:  #d6dce4;\n        }    #T_bafcc62c_40ed_11e9_b312_00155d021003row3_col5 {\n            background-color:  #bad0f8;\n        }    #T_bafcc62c_40ed_11e9_b312_00155d021003row3_col6 {\n            background-color:  #7ea1fa;\n        }    #T_bafcc62c_40ed_11e9_b312_00155d021003row3_col7 {\n            background-color:  #3b4cc0;\n        }    #T_bafcc62c_40ed_11e9_b312_00155d021003row4_col0 {\n            background-color:  #3c4ec2;\n        }    #T_bafcc62c_40ed_11e9_b312_00155d021003row4_col1 {\n            background-color:  #9bbcff;\n        }    #T_bafcc62c_40ed_11e9_b312_00155d021003row4_col2 {\n            background-color:  #4961d2;\n        }    #T_bafcc62c_40ed_11e9_b312_00155d021003row4_col3 {\n            background-color:  #dbdcde;\n        }    #T_bafcc62c_40ed_11e9_b312_00155d021003row4_col4 {\n            background-color:  #b40426;\n        }    #T_bafcc62c_40ed_11e9_b312_00155d021003row4_col5 {\n            background-color:  #7597f6;\n        }    #T_bafcc62c_40ed_11e9_b312_00155d021003row4_col6 {\n            background-color:  #80a3fa;\n        }    #T_bafcc62c_40ed_11e9_b312_00155d021003row4_col7 {\n            background-color:  #4e68d8;\n        }    #T_bafcc62c_40ed_11e9_b312_00155d021003row5_col0 {\n            background-color:  #5673e0;\n        }    #T_bafcc62c_40ed_11e9_b312_00155d021003row5_col1 {\n            background-color:  #7295f4;\n        }    #T_bafcc62c_40ed_11e9_b312_00155d021003row5_col2 {\n            background-color:  #8db0fe;\n        }    #T_bafcc62c_40ed_11e9_b312_00155d021003row5_col3 {\n            background-color:  #d1dae9;\n        }    #T_bafcc62c_40ed_11e9_b312_00155d021003row5_col4 {\n            background-color:  #8db0fe;\n        }    #T_bafcc62c_40ed_11e9_b312_00155d021003row5_col5 {\n            background-color:  #b40426;\n        }    #T_bafcc62c_40ed_11e9_b312_00155d021003row5_col6 {\n            background-color:  #7093f3;\n        }    #T_bafcc62c_40ed_11e9_b312_00155d021003row5_col7 {\n            background-color:  #6485ec;\n        }    #T_bafcc62c_40ed_11e9_b312_00155d021003row6_col0 {\n            background-color:  #485fd1;\n        }    #T_bafcc62c_40ed_11e9_b312_00155d021003row6_col1 {\n            background-color:  #5470de;\n        }    #T_bafcc62c_40ed_11e9_b312_00155d021003row6_col2 {\n            background-color:  #3b4cc0;\n        }    #T_bafcc62c_40ed_11e9_b312_00155d021003row6_col3 {\n            background-color:  #93b5fe;\n        }    #T_bafcc62c_40ed_11e9_b312_00155d021003row6_col4 {\n            background-color:  #89acfd;\n        }    #T_bafcc62c_40ed_11e9_b312_00155d021003row6_col5 {\n            background-color:  #6282ea;\n        }    #T_bafcc62c_40ed_11e9_b312_00155d021003row6_col6 {\n            background-color:  #b40426;\n        }    #T_bafcc62c_40ed_11e9_b312_00155d021003row6_col7 {\n            background-color:  #6384eb;\n        }    #T_bafcc62c_40ed_11e9_b312_00155d021003row7_col0 {\n            background-color:  #efcfbf;\n        }    #T_bafcc62c_40ed_11e9_b312_00155d021003row7_col1 {\n            background-color:  #81a4fb;\n        }    #T_bafcc62c_40ed_11e9_b312_00155d021003row7_col2 {\n            background-color:  #7da0f9;\n        }    #T_bafcc62c_40ed_11e9_b312_00155d021003row7_col3 {\n            background-color:  #3b4cc0;\n        }    #T_bafcc62c_40ed_11e9_b312_00155d021003row7_col4 {\n            background-color:  #4358cb;\n        }    #T_bafcc62c_40ed_11e9_b312_00155d021003row7_col5 {\n            background-color:  #3f53c6;\n        }    #T_bafcc62c_40ed_11e9_b312_00155d021003row7_col6 {\n            background-color:  #4e68d8;\n        }    #T_bafcc62c_40ed_11e9_b312_00155d021003row7_col7 {\n            background-color:  #b40426;\n        }</style>  \n<table id=\"T_bafcc62c_40ed_11e9_b312_00155d021003\" > \n<thead>    <tr> \n        <th class=\"blank level0\" ></th> \n        <th class=\"col_heading level0 col0\" >Pregnancies</th> \n        <th class=\"col_heading level0 col1\" >Glucose</th> \n        <th class=\"col_heading level0 col2\" >BloodPressure</th> \n        <th class=\"col_heading level0 col3\" >SkinThickness</th> \n        <th class=\"col_heading level0 col4\" >Insulin</th> \n        <th class=\"col_heading level0 col5\" >BMI</th> \n        <th class=\"col_heading level0 col6\" >DiabetesPedigreeFunction</th> \n        <th class=\"col_heading level0 col7\" >Age</th> \n    </tr></thead> \n<tbody>    <tr> \n        <th id=\"T_bafcc62c_40ed_11e9_b312_00155d021003level0_row0\" class=\"row_heading level0 row0\" >Pregnancies</th> \n        <td id=\"T_bafcc62c_40ed_11e9_b312_00155d021003row0_col0\" class=\"data row0 col0\" >1</td> \n        <td id=\"T_bafcc62c_40ed_11e9_b312_00155d021003row0_col1\" class=\"data row0 col1\" >0.129459</td> \n        <td id=\"T_bafcc62c_40ed_11e9_b312_00155d021003row0_col2\" class=\"data row0 col2\" >0.141282</td> \n        <td id=\"T_bafcc62c_40ed_11e9_b312_00155d021003row0_col3\" class=\"data row0 col3\" >-0.0816718</td> \n        <td id=\"T_bafcc62c_40ed_11e9_b312_00155d021003row0_col4\" class=\"data row0 col4\" >-0.0735346</td> \n        <td id=\"T_bafcc62c_40ed_11e9_b312_00155d021003row0_col5\" class=\"data row0 col5\" >0.0176831</td> \n        <td id=\"T_bafcc62c_40ed_11e9_b312_00155d021003row0_col6\" class=\"data row0 col6\" >-0.0335227</td> \n        <td id=\"T_bafcc62c_40ed_11e9_b312_00155d021003row0_col7\" class=\"data row0 col7\" >0.544341</td> \n    </tr>    <tr> \n        <th id=\"T_bafcc62c_40ed_11e9_b312_00155d021003level0_row1\" class=\"row_heading level0 row1\" >Glucose</th> \n        <td id=\"T_bafcc62c_40ed_11e9_b312_00155d021003row1_col0\" class=\"data row1 col0\" >0.129459</td> \n        <td id=\"T_bafcc62c_40ed_11e9_b312_00155d021003row1_col1\" class=\"data row1 col1\" >1</td> \n        <td id=\"T_bafcc62c_40ed_11e9_b312_00155d021003row1_col2\" class=\"data row1 col2\" >0.15259</td> \n        <td id=\"T_bafcc62c_40ed_11e9_b312_00155d021003row1_col3\" class=\"data row1 col3\" >0.0573279</td> \n        <td id=\"T_bafcc62c_40ed_11e9_b312_00155d021003row1_col4\" class=\"data row1 col4\" >0.331357</td> \n        <td id=\"T_bafcc62c_40ed_11e9_b312_00155d021003row1_col5\" class=\"data row1 col5\" >0.221071</td> \n        <td id=\"T_bafcc62c_40ed_11e9_b312_00155d021003row1_col6\" class=\"data row1 col6\" >0.137337</td> \n        <td id=\"T_bafcc62c_40ed_11e9_b312_00155d021003row1_col7\" class=\"data row1 col7\" >0.263514</td> \n    </tr>    <tr> \n        <th id=\"T_bafcc62c_40ed_11e9_b312_00155d021003level0_row2\" class=\"row_heading level0 row2\" >BloodPressure</th> \n        <td id=\"T_bafcc62c_40ed_11e9_b312_00155d021003row2_col0\" class=\"data row2 col0\" >0.141282</td> \n        <td id=\"T_bafcc62c_40ed_11e9_b312_00155d021003row2_col1\" class=\"data row2 col1\" >0.15259</td> \n        <td id=\"T_bafcc62c_40ed_11e9_b312_00155d021003row2_col2\" class=\"data row2 col2\" >1</td> \n        <td id=\"T_bafcc62c_40ed_11e9_b312_00155d021003row2_col3\" class=\"data row2 col3\" >0.207371</td> \n        <td id=\"T_bafcc62c_40ed_11e9_b312_00155d021003row2_col4\" class=\"data row2 col4\" >0.0889334</td> \n        <td id=\"T_bafcc62c_40ed_11e9_b312_00155d021003row2_col5\" class=\"data row2 col5\" >0.281805</td> \n        <td id=\"T_bafcc62c_40ed_11e9_b312_00155d021003row2_col6\" class=\"data row2 col6\" >0.0412649</td> \n        <td id=\"T_bafcc62c_40ed_11e9_b312_00155d021003row2_col7\" class=\"data row2 col7\" >0.239528</td> \n    </tr>    <tr> \n        <th id=\"T_bafcc62c_40ed_11e9_b312_00155d021003level0_row3\" class=\"row_heading level0 row3\" >SkinThickness</th> \n        <td id=\"T_bafcc62c_40ed_11e9_b312_00155d021003row3_col0\" class=\"data row3 col0\" >-0.0816718</td> \n        <td id=\"T_bafcc62c_40ed_11e9_b312_00155d021003row3_col1\" class=\"data row3 col1\" >0.0573279</td> \n        <td id=\"T_bafcc62c_40ed_11e9_b312_00155d021003row3_col2\" class=\"data row3 col2\" >0.207371</td> \n        <td id=\"T_bafcc62c_40ed_11e9_b312_00155d021003row3_col3\" class=\"data row3 col3\" >1</td> \n        <td id=\"T_bafcc62c_40ed_11e9_b312_00155d021003row3_col4\" class=\"data row3 col4\" >0.436783</td> \n        <td id=\"T_bafcc62c_40ed_11e9_b312_00155d021003row3_col5\" class=\"data row3 col5\" >0.392573</td> \n        <td id=\"T_bafcc62c_40ed_11e9_b312_00155d021003row3_col6\" class=\"data row3 col6\" >0.183928</td> \n        <td id=\"T_bafcc62c_40ed_11e9_b312_00155d021003row3_col7\" class=\"data row3 col7\" >-0.11397</td> \n    </tr>    <tr> \n        <th id=\"T_bafcc62c_40ed_11e9_b312_00155d021003level0_row4\" class=\"row_heading level0 row4\" >Insulin</th> \n        <td id=\"T_bafcc62c_40ed_11e9_b312_00155d021003row4_col0\" class=\"data row4 col0\" >-0.0735346</td> \n        <td id=\"T_bafcc62c_40ed_11e9_b312_00155d021003row4_col1\" class=\"data row4 col1\" >0.331357</td> \n        <td id=\"T_bafcc62c_40ed_11e9_b312_00155d021003row4_col2\" class=\"data row4 col2\" >0.0889334</td> \n        <td id=\"T_bafcc62c_40ed_11e9_b312_00155d021003row4_col3\" class=\"data row4 col3\" >0.436783</td> \n        <td id=\"T_bafcc62c_40ed_11e9_b312_00155d021003row4_col4\" class=\"data row4 col4\" >1</td> \n        <td id=\"T_bafcc62c_40ed_11e9_b312_00155d021003row4_col5\" class=\"data row4 col5\" >0.197859</td> \n        <td id=\"T_bafcc62c_40ed_11e9_b312_00155d021003row4_col6\" class=\"data row4 col6\" >0.185071</td> \n        <td id=\"T_bafcc62c_40ed_11e9_b312_00155d021003row4_col7\" class=\"data row4 col7\" >-0.042163</td> \n    </tr>    <tr> \n        <th id=\"T_bafcc62c_40ed_11e9_b312_00155d021003level0_row5\" class=\"row_heading level0 row5\" >BMI</th> \n        <td id=\"T_bafcc62c_40ed_11e9_b312_00155d021003row5_col0\" class=\"data row5 col0\" >0.0176831</td> \n        <td id=\"T_bafcc62c_40ed_11e9_b312_00155d021003row5_col1\" class=\"data row5 col1\" >0.221071</td> \n        <td id=\"T_bafcc62c_40ed_11e9_b312_00155d021003row5_col2\" class=\"data row5 col2\" >0.281805</td> \n        <td id=\"T_bafcc62c_40ed_11e9_b312_00155d021003row5_col3\" class=\"data row5 col3\" >0.392573</td> \n        <td id=\"T_bafcc62c_40ed_11e9_b312_00155d021003row5_col4\" class=\"data row5 col4\" >0.197859</td> \n        <td id=\"T_bafcc62c_40ed_11e9_b312_00155d021003row5_col5\" class=\"data row5 col5\" >1</td> \n        <td id=\"T_bafcc62c_40ed_11e9_b312_00155d021003row5_col6\" class=\"data row5 col6\" >0.140647</td> \n        <td id=\"T_bafcc62c_40ed_11e9_b312_00155d021003row5_col7\" class=\"data row5 col7\" >0.0362419</td> \n    </tr>    <tr> \n        <th id=\"T_bafcc62c_40ed_11e9_b312_00155d021003level0_row6\" class=\"row_heading level0 row6\" >DiabetesPedigreeFunction</th> \n        <td id=\"T_bafcc62c_40ed_11e9_b312_00155d021003row6_col0\" class=\"data row6 col0\" >-0.0335227</td> \n        <td id=\"T_bafcc62c_40ed_11e9_b312_00155d021003row6_col1\" class=\"data row6 col1\" >0.137337</td> \n        <td id=\"T_bafcc62c_40ed_11e9_b312_00155d021003row6_col2\" class=\"data row6 col2\" >0.0412649</td> \n        <td id=\"T_bafcc62c_40ed_11e9_b312_00155d021003row6_col3\" class=\"data row6 col3\" >0.183928</td> \n        <td id=\"T_bafcc62c_40ed_11e9_b312_00155d021003row6_col4\" class=\"data row6 col4\" >0.185071</td> \n        <td id=\"T_bafcc62c_40ed_11e9_b312_00155d021003row6_col5\" class=\"data row6 col5\" >0.140647</td> \n        <td id=\"T_bafcc62c_40ed_11e9_b312_00155d021003row6_col6\" class=\"data row6 col6\" >1</td> \n        <td id=\"T_bafcc62c_40ed_11e9_b312_00155d021003row6_col7\" class=\"data row6 col7\" >0.0335613</td> \n    </tr>    <tr> \n        <th id=\"T_bafcc62c_40ed_11e9_b312_00155d021003level0_row7\" class=\"row_heading level0 row7\" >Age</th> \n        <td id=\"T_bafcc62c_40ed_11e9_b312_00155d021003row7_col0\" class=\"data row7 col0\" >0.544341</td> \n        <td id=\"T_bafcc62c_40ed_11e9_b312_00155d021003row7_col1\" class=\"data row7 col1\" >0.263514</td> \n        <td id=\"T_bafcc62c_40ed_11e9_b312_00155d021003row7_col2\" class=\"data row7 col2\" >0.239528</td> \n        <td id=\"T_bafcc62c_40ed_11e9_b312_00155d021003row7_col3\" class=\"data row7 col3\" >-0.11397</td> \n        <td id=\"T_bafcc62c_40ed_11e9_b312_00155d021003row7_col4\" class=\"data row7 col4\" >-0.042163</td> \n        <td id=\"T_bafcc62c_40ed_11e9_b312_00155d021003row7_col5\" class=\"data row7 col5\" >0.0362419</td> \n        <td id=\"T_bafcc62c_40ed_11e9_b312_00155d021003row7_col6\" class=\"data row7 col6\" >0.0335613</td> \n        <td id=\"T_bafcc62c_40ed_11e9_b312_00155d021003row7_col7\" class=\"data row7 col7\" >1</td> \n    </tr></tbody> \n</table> ",
            "text/plain": "<pandas.io.formats.style.Styler at 0x7f0fbd9175f8>"
          },
          "metadata": {}
        }
      ]
    },
    {
      "metadata": {
        "trusted": true
      },
      "cell_type": "code",
      "source": "labels = df['Outcome']",
      "execution_count": 9,
      "outputs": []
    },
    {
      "metadata": {
        "trusted": true
      },
      "cell_type": "code",
      "source": "from sklearn.model_selection import train_test_split\nfeatures_train,features_test,labels_train,labels_test = train_test_split(features,labels,test_size = 0.25)",
      "execution_count": 13,
      "outputs": []
    },
    {
      "metadata": {
        "trusted": true
      },
      "cell_type": "code",
      "source": "from sklearn.neighbors import KNeighborsClassifier\nclas = KNeighborsClassifier()",
      "execution_count": 15,
      "outputs": []
    },
    {
      "metadata": {
        "trusted": true
      },
      "cell_type": "code",
      "source": "clas.fit(features_train,labels_train)",
      "execution_count": 16,
      "outputs": [
        {
          "output_type": "execute_result",
          "execution_count": 16,
          "data": {
            "text/plain": "KNeighborsClassifier(algorithm='auto', leaf_size=30, metric='minkowski',\n           metric_params=None, n_jobs=1, n_neighbors=5, p=2,\n           weights='uniform')"
          },
          "metadata": {}
        }
      ]
    },
    {
      "metadata": {
        "trusted": true
      },
      "cell_type": "code",
      "source": "pred = clas.predict(features_test)",
      "execution_count": 18,
      "outputs": []
    },
    {
      "metadata": {
        "trusted": true
      },
      "cell_type": "code",
      "source": "from sklearn.metrics import accuracy_score\n\naccuracy = accuracy_score(labels_test,pred)\nprint('Accuracy :',format(accuracy))",
      "execution_count": 23,
      "outputs": [
        {
          "output_type": "stream",
          "text": "Accuracy : 0.7083333333333334\n",
          "name": "stdout"
        }
      ]
    },
    {
      "metadata": {
        "trusted": true
      },
      "cell_type": "code",
      "source": "",
      "execution_count": null,
      "outputs": []
    },
    {
      "metadata": {
        "trusted": true
      },
      "cell_type": "code",
      "source": "",
      "execution_count": null,
      "outputs": []
    }
  ],
  "metadata": {
    "kernelspec": {
      "name": "python36",
      "display_name": "Python 3.6",
      "language": "python"
    },
    "language_info": {
      "mimetype": "text/x-python",
      "nbconvert_exporter": "python",
      "name": "python",
      "pygments_lexer": "ipython3",
      "version": "3.6.6",
      "file_extension": ".py",
      "codemirror_mode": {
        "version": 3,
        "name": "ipython"
      }
    }
  },
  "nbformat": 4,
  "nbformat_minor": 2
}